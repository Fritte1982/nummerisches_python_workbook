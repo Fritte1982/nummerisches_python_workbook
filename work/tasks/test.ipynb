{
 "cells": [
  {
   "cell_type": "code",
   "id": "initial_id",
   "metadata": {
    "collapsed": true,
    "ExecuteTime": {
     "end_time": "2025-03-05T05:39:03.024540Z",
     "start_time": "2025-03-05T05:39:03.013761Z"
    }
   },
   "source": "print(\"Hello World\")",
   "outputs": [
    {
     "name": "stdout",
     "output_type": "stream",
     "text": [
      "Hello World\n"
     ]
    }
   ],
   "execution_count": 1
  },
  {
   "metadata": {
    "ExecuteTime": {
     "end_time": "2025-03-07T05:29:58.327014Z",
     "start_time": "2025-03-07T05:29:58.302613Z"
    }
   },
   "cell_type": "code",
   "source": "print(\"hello\")",
   "id": "43329cf83fe6b068",
   "outputs": [
    {
     "name": "stdout",
     "output_type": "stream",
     "text": [
      "hello\n"
     ]
    }
   ],
   "execution_count": 1
  },
  {
   "metadata": {},
   "cell_type": "code",
   "outputs": [],
   "execution_count": null,
   "source": "",
   "id": "337db95a3c879ea2"
  }
 ],
 "metadata": {
  "kernelspec": {
   "display_name": "Python (juypter_env)",
   "language": "python",
   "name": "juypter_env"
  },
  "language_info": {
   "codemirror_mode": {
    "name": "ipython",
    "version": 2
   },
   "file_extension": ".py",
   "mimetype": "text/x-python",
   "name": "python",
   "nbconvert_exporter": "python",
   "pygments_lexer": "ipython2",
   "version": "2.7.6"
  }
 },
 "nbformat": 4,
 "nbformat_minor": 5
}
